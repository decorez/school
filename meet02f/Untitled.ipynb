{
 "cells": [
  {
   "cell_type": "markdown",
   "id": "3456b502",
   "metadata": {},
   "source": [
    "# Functional Programming"
   ]
  },
  {
   "cell_type": "markdown",
   "id": "bc38e13b",
   "metadata": {},
   "source": [
    "## Filter Function"
   ]
  },
  {
   "cell_type": "code",
   "execution_count": 28,
   "id": "55bbf796",
   "metadata": {},
   "outputs": [
    {
     "name": "stdout",
     "output_type": "stream",
     "text": [
      "[0, 2, 3, 5, 7, 11, 13, 17, 19, 23, 29, 31, 37, 41, 43, 47, 53, 59, 61, 67, 71, 73, 79, 83, 89, 97]\n",
      "[23, 29, 41, 43, 47, 61, 67, 83, 89]\n"
     ]
    }
   ],
   "source": [
    "from math import sqrt\n",
    "\n",
    "def is_prime(n):\n",
    "    if n == 1:\n",
    "        return False\n",
    "    for i in range(2, int(sqrt(n)+1)):\n",
    "        if n % i == 0:\n",
    "            return False\n",
    "    return True\n",
    "\n",
    "def is_even_tenth(n):\n",
    "    if n > 10 and n % 10 > 0 and int(str(n)[0]) % 2 == 0:\n",
    "        return True\n",
    "    return False\n",
    "\n",
    "prime_numbers = list(filter(is_prime, range(0, 101)))\n",
    "print(prime_numbers)\n",
    "\n",
    "even_tenth = list(filter(is_even_tenth, prime_numbers))\n",
    "print(even_tenth)"
   ]
  },
  {
   "cell_type": "markdown",
   "id": "5184b2c4",
   "metadata": {},
   "source": [
    "## Map Function"
   ]
  },
  {
   "cell_type": "code",
   "execution_count": 32,
   "id": "cb857902",
   "metadata": {},
   "outputs": [
    {
     "name": "stdout",
     "output_type": "stream",
     "text": [
      "[0, 2, 4, 6, 8, 10, 12, 14, 16, 18]\n"
     ]
    }
   ],
   "source": [
    "times_by_two = lambda n : n * 2\n",
    "\n",
    "numbers = list(range(0, 10))\n",
    "new = list(map(times_by_two, numbers))\n",
    "print(new)"
   ]
  },
  {
   "cell_type": "code",
   "execution_count": 34,
   "id": "1ef2d913",
   "metadata": {},
   "outputs": [
    {
     "name": "stdout",
     "output_type": "stream",
     "text": [
      "5\n"
     ]
    },
    {
     "ename": "ValueError",
     "evalue": "not enough values to unpack (expected 3, got 1)",
     "output_type": "error",
     "traceback": [
      "\u001b[1;31m---------------------------------------------------------------------------\u001b[0m",
      "\u001b[1;31mValueError\u001b[0m                                Traceback (most recent call last)",
      "Cell \u001b[1;32mIn[34], line 4\u001b[0m\n\u001b[0;32m      1\u001b[0m \u001b[38;5;66;03m# a, b, c = input().split()\u001b[39;00m\n\u001b[0;32m      2\u001b[0m \u001b[38;5;66;03m# a, b, c = int(a), int(b), int(c)\u001b[39;00m\n\u001b[1;32m----> 4\u001b[0m a, b, c \u001b[38;5;241m=\u001b[39m \u001b[38;5;28mlist\u001b[39m(\u001b[38;5;28mmap\u001b[39m(\u001b[38;5;28mint\u001b[39m, \u001b[38;5;28minput\u001b[39m()\u001b[38;5;241m.\u001b[39msplit()))\n",
      "\u001b[1;31mValueError\u001b[0m: not enough values to unpack (expected 3, got 1)"
     ]
    }
   ],
   "source": [
    "# a, b, c = input().split()\n",
    "# a, b, c = int(a), int(b), int(c)\n",
    "\n",
    "a, b, c = list(map(int, input().split()))"
   ]
  },
  {
   "cell_type": "markdown",
   "id": "8d051347",
   "metadata": {},
   "source": [
    "## List Comprehension"
   ]
  },
  {
   "cell_type": "code",
   "execution_count": 51,
   "id": "1c1998a5",
   "metadata": {},
   "outputs": [
    {
     "name": "stdout",
     "output_type": "stream",
     "text": [
      "[0, 2, 4, 6, 8, 10, 12, 14, 16, 18, 20, 22, 24, 26, 28, 30, 32, 34, 36, 38, 40, 42, 44, 46, 48, 50, 52, 54, 56, 58, 60, 62, 64, 66, 68, 70, 72, 74, 76, 78, 80, 82, 84, 86, 88, 90, 92, 94, 96, 98, 100]\n",
      "[0, 2, 3, 5, 7, 11, 13, 17, 19, 23, 29, 31, 37, 41, 43, 47, 53, 59, 61, 67, 71, 73, 79, 83, 89, 97]\n",
      "[23, 29, 41, 43, 47, 61, 67, 83, 89]\n"
     ]
    }
   ],
   "source": [
    "numbers = list(range(0, 101))\n",
    "even_numbers = [ number for number in numbers if number%2 == 0 ]\n",
    "\n",
    "print(even_numbers)\n",
    "prime_numbers = [ number for number in numbers if is_prime(number)]\n",
    "print(prime_numbers)\n",
    "even_tenth = [ number for number in prime_numbers if is_even_tenth(number)]\n",
    "print(even_tenth)"
   ]
  },
  {
   "cell_type": "code",
   "execution_count": 61,
   "id": "7bd643f6",
   "metadata": {},
   "outputs": [
    {
     "name": "stdout",
     "output_type": "stream",
     "text": [
      "[10, 12]\n"
     ]
    }
   ],
   "source": [
    "add_three = lambda x : x + 3\n",
    "\n",
    "odd_number = [add_three(number) for number in range(1, 10, 2) if number > 5]\n",
    "print(odd_number)"
   ]
  }
 ],
 "metadata": {
  "kernelspec": {
   "display_name": "Python 3 (ipykernel)",
   "language": "python",
   "name": "python3"
  },
  "language_info": {
   "codemirror_mode": {
    "name": "ipython",
    "version": 3
   },
   "file_extension": ".py",
   "mimetype": "text/x-python",
   "name": "python",
   "nbconvert_exporter": "python",
   "pygments_lexer": "ipython3",
   "version": "3.10.11"
  }
 },
 "nbformat": 4,
 "nbformat_minor": 5
}
