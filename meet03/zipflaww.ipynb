{
 "cells": [
  {
   "cell_type": "markdown",
   "id": "7f543068",
   "metadata": {},
   "source": [
    "##  Zip'f Law"
   ]
  },
  {
   "cell_type": "markdown",
   "id": "1b4e60ea",
   "metadata": {},
   "source": [
    "zipf law merupakan aturan yang sering berlaku tentang adanya kejadian penururan yang mengulang yang sama pada suatu kegiatan  "
   ]
  }
 ],
 "metadata": {
  "kernelspec": {
   "display_name": "Python 3 (ipykernel)",
   "language": "python",
   "name": "python3"
  },
  "language_info": {
   "codemirror_mode": {
    "name": "ipython",
    "version": 3
   },
   "file_extension": ".py",
   "mimetype": "text/x-python",
   "name": "python",
   "nbconvert_exporter": "python",
   "pygments_lexer": "ipython3",
   "version": "3.10.11"
  }
 },
 "nbformat": 4,
 "nbformat_minor": 5
}
