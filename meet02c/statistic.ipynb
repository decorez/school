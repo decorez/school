{
 "cells": [
  {
   "cell_type": "markdown",
   "id": "215f75b1",
   "metadata": {},
   "source": [
    "# statistic library"
   ]
  },
  {
   "cell_type": "code",
   "execution_count": 3,
   "id": "a8a287bd",
   "metadata": {},
   "outputs": [
    {
     "name": "stdout",
     "output_type": "stream",
     "text": [
      "Mean : 24.29\n"
     ]
    }
   ],
   "source": [
    "from statistics import mean, median, mode, multimode\n",
    "\n",
    "data = [10, 20, 30, 10, 20, 30, 50]\n",
    "\n",
    "print(f\"Mean : {mean(data):.2f}\")"
   ]
  },
  {
   "cell_type": "code",
   "execution_count": 4,
   "id": "0b739a89",
   "metadata": {},
   "outputs": [
    {
     "name": "stdout",
     "output_type": "stream",
     "text": [
      "Median : 20.00\n"
     ]
    }
   ],
   "source": [
    "print(f\"Median : {median(data):.2f}\")"
   ]
  },
  {
   "cell_type": "code",
   "execution_count": 4,
   "id": "f0ffeb1f",
   "metadata": {},
   "outputs": [
    {
     "ename": "NameError",
     "evalue": "name 'mode' is not defined",
     "output_type": "error",
     "traceback": [
      "\u001b[1;31m---------------------------------------------------------------------------\u001b[0m",
      "\u001b[1;31mNameError\u001b[0m                                 Traceback (most recent call last)",
      "Cell \u001b[1;32mIn[4], line 1\u001b[0m\n\u001b[1;32m----> 1\u001b[0m \u001b[39mprint\u001b[39m(\u001b[39mf\u001b[39m\u001b[39m\"\u001b[39m\u001b[39mMode : \u001b[39m\u001b[39m{\u001b[39;00mmode(data)\u001b[39m:\u001b[39;00m\u001b[39m.2f\u001b[39m\u001b[39m}\u001b[39;00m\u001b[39m\"\u001b[39m)\n",
      "\u001b[1;31mNameError\u001b[0m: name 'mode' is not defined"
     ]
    }
   ],
   "source": [
    "print(f\"Mode : {mode(data):.2f}\")"
   ]
  },
  {
   "cell_type": "code",
   "execution_count": 11,
   "id": "3dbb20be",
   "metadata": {},
   "outputs": [
    {
     "name": "stdout",
     "output_type": "stream",
     "text": [
      "Multimode : [10, 20, 30]\n"
     ]
    }
   ],
   "source": [
    "print(f\"Multimode : {multimode(data)}\")"
   ]
  },
  {
   "cell_type": "code",
   "execution_count": 12,
   "id": "d0cf2fcc",
   "metadata": {},
   "outputs": [
    {
     "name": "stdout",
     "output_type": "stream",
     "text": [
      "Input a number : 12\n",
      "Your number is : 12\n"
     ]
    }
   ],
   "source": [
    "try:\n",
    "    number = int(input(\"Input a number : \"))\n",
    "    print(f\"Your number is : {number}\")\n",
    "except:\n",
    "    print('Your input is not a number!')"
   ]
  },
  {
   "cell_type": "code",
   "execution_count": 14,
   "id": "d5d024a6",
   "metadata": {},
   "outputs": [
    {
     "name": "stdout",
     "output_type": "stream",
     "text": [
      "Input a number : 1\n",
      "Your number is : 1\n",
      "done\n"
     ]
    }
   ],
   "source": [
    "try:\n",
    "    number = int(input(\"Input a number : \"))\n",
    "except:\n",
    "    print('Your input is not a number!')\n",
    "else:\n",
    "    print(f\"Your number is : {number}\")\n",
    "finally:\n",
    "    print('done')"
   ]
  },
  {
   "cell_type": "code",
   "execution_count": null,
   "id": "a5a396c5",
   "metadata": {},
   "outputs": [],
   "source": []
  }
 ],
 "metadata": {
  "kernelspec": {
   "display_name": "Python 3 (ipykernel)",
   "language": "python",
   "name": "python3"
  },
  "language_info": {
   "codemirror_mode": {
    "name": "ipython",
    "version": 3
   },
   "file_extension": ".py",
   "mimetype": "text/x-python",
   "name": "python",
   "nbconvert_exporter": "python",
   "pygments_lexer": "ipython3",
   "version": "3.10.11"
  }
 },
 "nbformat": 4,
 "nbformat_minor": 5
}
