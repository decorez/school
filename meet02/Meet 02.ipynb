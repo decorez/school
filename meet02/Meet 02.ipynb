{
 "cells": [
  {
   "cell_type": "markdown",
   "id": "d8e1e6d8",
   "metadata": {},
   "source": [
    "## debugging"
   ]
  },
  {
   "cell_type": "code",
   "execution_count": 4,
   "id": "aa42cb1b",
   "metadata": {},
   "outputs": [
    {
     "name": "stdout",
     "output_type": "stream",
     "text": [
      "masukkan angka4\n",
      "14\n",
      "410\n"
     ]
    }
   ],
   "source": [
    "angka = input('masukkan angka')\n",
    "print(int(angka)+10)\n",
    "print(angka + '10')"
   ]
  },
  {
   "cell_type": "markdown",
   "id": "e437625e",
   "metadata": {},
   "source": [
    "## Defining Function"
   ]
  },
  {
   "cell_type": "code",
   "execution_count": 8,
   "id": "0a719183",
   "metadata": {},
   "outputs": [
    {
     "name": "stdout",
     "output_type": "stream",
     "text": [
      "-10\n",
      "The absolute value of -10 is 10\n"
     ]
    }
   ],
   "source": [
    "def abs(n):\n",
    "    if n < 0:\n",
    "        return -n\n",
    "    return n\n",
    "number = int(input())\n",
    "print(f\"The absolute value of {number} is {abs(number)}\")"
   ]
  },
  {
   "cell_type": "markdown",
   "id": "895614f6",
   "metadata": {},
   "source": [
    "ex : Function with side effect"
   ]
  },
  {
   "cell_type": "code",
   "execution_count": 13,
   "id": "0ac56289",
   "metadata": {},
   "outputs": [
    {
     "name": "stdout",
     "output_type": "stream",
     "text": [
      "False\n"
     ]
    }
   ],
   "source": [
    "def is_odd(n):\n",
    "    if n % 2 != 0:\n",
    "        return True #print('odd!')\n",
    "    return False #else : print('not!')\n",
    "print(is_odd(10))"
   ]
  },
  {
   "cell_type": "markdown",
   "id": "c3f41276",
   "metadata": {},
   "source": [
    "## variable in function"
   ]
  },
  {
   "cell_type": "code",
   "execution_count": 14,
   "id": "57f23a60",
   "metadata": {},
   "outputs": [
    {
     "name": "stdout",
     "output_type": "stream",
     "text": [
      "10\n",
      "7\n"
     ]
    }
   ],
   "source": [
    "a = 10\n",
    "\n",
    "def print_number_a():\n",
    "    a = 7\n",
    "    print(a)\n",
    "    \n",
    "print(a)\n",
    "print_number_a()"
   ]
  },
  {
   "cell_type": "markdown",
   "id": "8adddc8f",
   "metadata": {},
   "source": [
    "# Lists"
   ]
  },
  {
   "cell_type": "code",
   "execution_count": 16,
   "id": "75b90df5",
   "metadata": {},
   "outputs": [
    {
     "ename": "TypeError",
     "evalue": "'set' object is not subscriptable",
     "output_type": "error",
     "traceback": [
      "\u001b[1;31m---------------------------------------------------------------------------\u001b[0m",
      "\u001b[1;31mTypeError\u001b[0m                                 Traceback (most recent call last)",
      "Cell \u001b[1;32mIn[16], line 2\u001b[0m\n\u001b[0;32m      1\u001b[0m scores \u001b[38;5;241m=\u001b[39m {\u001b[38;5;241m100\u001b[39m, \u001b[38;5;241m90\u001b[39m, \u001b[38;5;241m60\u001b[39m, \u001b[38;5;241m65\u001b[39m}\n\u001b[1;32m----> 2\u001b[0m \u001b[38;5;28mprint\u001b[39m(\u001b[43mscores\u001b[49m\u001b[43m[\u001b[49m\u001b[38;5;241;43m0\u001b[39;49m\u001b[43m]\u001b[49m)\n\u001b[0;32m      3\u001b[0m \u001b[38;5;28mprint\u001b[39m(scores[\u001b[38;5;241m3\u001b[39m])\n\u001b[0;32m      4\u001b[0m \u001b[38;5;28mprint\u001b[39m(scores[\u001b[38;5;241m-\u001b[39m\u001b[38;5;241m1\u001b[39m])\n",
      "\u001b[1;31mTypeError\u001b[0m: 'set' object is not subscriptable"
     ]
    }
   ],
   "source": [
    "scores = [100, 90, 60, 65]\n",
    "print(scores[0])\n",
    "print(scores[3])\n",
    "print(scores[-1])"
   ]
  },
  {
   "cell_type": "code",
   "execution_count": null,
   "id": "d75dd433",
   "metadata": {},
   "outputs": [],
   "source": []
  }
 ],
 "metadata": {
  "kernelspec": {
   "display_name": "Python 3 (ipykernel)",
   "language": "python",
   "name": "python3"
  },
  "language_info": {
   "codemirror_mode": {
    "name": "ipython",
    "version": 3
   },
   "file_extension": ".py",
   "mimetype": "text/x-python",
   "name": "python",
   "nbconvert_exporter": "python",
   "pygments_lexer": "ipython3",
   "version": "3.10.11"
  }
 },
 "nbformat": 4,
 "nbformat_minor": 5
}
