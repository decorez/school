{
 "cells": [
  {
   "cell_type": "code",
   "execution_count": 5,
   "id": "63b5798f",
   "metadata": {},
   "outputs": [],
   "source": [
    "import sqlite3\n",
    "import pandas as pd\n",
    "from employee import Employee"
   ]
  },
  {
   "cell_type": "code",
   "execution_count": 6,
   "id": "0d90e752",
   "metadata": {},
   "outputs": [],
   "source": [
    "conn = sqlite3.connect('data.db')\n",
    "c = conn.cursor()"
   ]
  },
  {
   "cell_type": "code",
   "execution_count": 7,
   "id": "94800830",
   "metadata": {},
   "outputs": [],
   "source": [
    "c.execute(\"\"\"\n",
    "    CREATE TABLE IF NOT EXISTS employees(\n",
    "    id INTEGER PRIMARY KEY AUTOINCREMENT,\n",
    "    first TEXT,\n",
    "    last TEXT,\n",
    "    pay INTEGER\n",
    "    );\n",
    "\"\"\")\n",
    "conn.commit()\n",
    "#conn.close()"
   ]
  },
  {
   "cell_type": "code",
   "execution_count": 9,
   "id": "1cdd4cd8",
   "metadata": {},
   "outputs": [],
   "source": [
    "emp_1 = Employee('John', 'Doe', '3000')\n",
    "\n",
    "c.execute(\"\"\"\n",
    "    INSERT INTO employees (first, last, pay)\n",
    "    VALUES (?, ?, ?)\n",
    "\"\"\", (emp_1.first, emp_1.last, emp_1.pay))\n",
    "conn.commit()"
   ]
  },
  {
   "cell_type": "code",
   "execution_count": 15,
   "id": "44c4308b",
   "metadata": {},
   "outputs": [],
   "source": [
    "emp_1 = Employee('Jane', 'Doe', '3000')\n",
    "\n",
    "c.execute(\"\"\"\n",
    "    INSERT INTO employees (first, last, pay)\n",
    "    VALUES (?, ?, ?)\n",
    "    \n",
    "\"\"\", (emp_1.first, emp_1.last, emp_1.pay))\n",
    "conn.commit()"
   ]
  },
  {
   "cell_type": "code",
   "execution_count": 16,
   "id": "806ba3df",
   "metadata": {},
   "outputs": [
    {
     "name": "stdout",
     "output_type": "stream",
     "text": [
      "   id first last   pay\n",
      "0   1  John  Doe  3000\n",
      "1   2  John  Doe  3000\n",
      "2   3  John  Doe  3000\n",
      "3   4  Jane  Doe  3000\n",
      "4   5  Jane  Doe  3000\n",
      "5   6  Jane  Doe  3000\n"
     ]
    }
   ],
   "source": [
    "emps = c.execute(\"\"\"\n",
    "    SELECT * FROM employees\n",
    "\"\"\")\n",
    "df = pd.DataFrame(emps)\n",
    "df.columns = ['id', 'first', 'last', 'pay']\n",
    "print(df)"
   ]
  },
  {
   "cell_type": "code",
   "execution_count": null,
   "id": "052bde26",
   "metadata": {},
   "outputs": [],
   "source": []
  }
 ],
 "metadata": {
  "kernelspec": {
   "display_name": "Python 3 (ipykernel)",
   "language": "python",
   "name": "python3"
  },
  "language_info": {
   "codemirror_mode": {
    "name": "ipython",
    "version": 3
   },
   "file_extension": ".py",
   "mimetype": "text/x-python",
   "name": "python",
   "nbconvert_exporter": "python",
   "pygments_lexer": "ipython3",
   "version": "3.10.11"
  }
 },
 "nbformat": 4,
 "nbformat_minor": 5
}
