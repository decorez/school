{
 "cells": [
  {
   "cell_type": "markdown",
   "id": "7bb40713",
   "metadata": {},
   "source": [
    "# Menambahkan item ke lists"
   ]
  },
  {
   "cell_type": "code",
   "execution_count": 1,
   "id": "726e2863",
   "metadata": {},
   "outputs": [
    {
     "name": "stdout",
     "output_type": "stream",
     "text": [
      "['ron', 'harry', 'draco', 'amira']\n"
     ]
    }
   ],
   "source": [
    "students = ['ron', 'harry', 'draco']\n",
    "students.append('amira')\n",
    "print(students)"
   ]
  },
  {
   "cell_type": "markdown",
   "id": "fca2ad26",
   "metadata": {},
   "source": [
    "# Mengganti item dengan akses index"
   ]
  },
  {
   "cell_type": "code",
   "execution_count": 3,
   "id": "50eab61b",
   "metadata": {},
   "outputs": [
    {
     "name": "stdout",
     "output_type": "stream",
     "text": [
      "['ron', 'delbert', 'draco', 'amira']\n"
     ]
    }
   ],
   "source": [
    "students[1] = 'delbert'\n",
    "print(students)"
   ]
  },
  {
   "cell_type": "code",
   "execution_count": 4,
   "id": "88ae5bf6",
   "metadata": {},
   "outputs": [
    {
     "name": "stdout",
     "output_type": "stream",
     "text": [
      "4\n"
     ]
    }
   ],
   "source": [
    "print(len(students))"
   ]
  },
  {
   "cell_type": "markdown",
   "id": "261294ce",
   "metadata": {},
   "source": [
    "# Menghapus item dengan index"
   ]
  },
  {
   "cell_type": "code",
   "execution_count": 5,
   "id": "7d7bc0ed",
   "metadata": {},
   "outputs": [
    {
     "name": "stdout",
     "output_type": "stream",
     "text": [
      "['ron', 'delbert', 'amira']\n"
     ]
    }
   ],
   "source": [
    "del students[2]\n",
    "print(students)"
   ]
  },
  {
   "cell_type": "code",
   "execution_count": 6,
   "id": "3bce3923",
   "metadata": {},
   "outputs": [
    {
     "name": "stdout",
     "output_type": "stream",
     "text": [
      "['delbert', 'amira']\n"
     ]
    }
   ],
   "source": [
    "students.remove('ron')\n",
    "print(students)"
   ]
  },
  {
   "cell_type": "code",
   "execution_count": 7,
   "id": "999f55a3",
   "metadata": {},
   "outputs": [
    {
     "name": "stdout",
     "output_type": "stream",
     "text": [
      "['delbert']\n"
     ]
    }
   ],
   "source": [
    "students.pop()\n",
    "print(students)"
   ]
  },
  {
   "cell_type": "code",
   "execution_count": 9,
   "id": "4a063552",
   "metadata": {},
   "outputs": [
    {
     "name": "stdout",
     "output_type": "stream",
     "text": [
      "False\n"
     ]
    }
   ],
   "source": [
    "print('amira' in students)"
   ]
  },
  {
   "cell_type": "code",
   "execution_count": 10,
   "id": "b62c5c76",
   "metadata": {},
   "outputs": [
    {
     "name": "stdout",
     "output_type": "stream",
     "text": [
      "True\n"
     ]
    }
   ],
   "source": [
    "print('amira' not in students)"
   ]
  },
  {
   "cell_type": "markdown",
   "id": "0bc6c4a7",
   "metadata": {},
   "source": [
    "# Looping for"
   ]
  },
  {
   "cell_type": "code",
   "execution_count": 13,
   "id": "1b297fb1",
   "metadata": {},
   "outputs": [
    {
     "name": "stdout",
     "output_type": "stream",
     "text": [
      "100 80 70 50 100 "
     ]
    }
   ],
   "source": [
    "scores = [100, 80, 70, 50, 100]\n",
    "for score in scores:\n",
    "    print(score, end=\" \")"
   ]
  },
  {
   "cell_type": "code",
   "execution_count": 14,
   "id": "80efa2ee",
   "metadata": {},
   "outputs": [
    {
     "name": "stdout",
     "output_type": "stream",
     "text": [
      "Andi Budi Cindy "
     ]
    }
   ],
   "source": [
    "names = ['Andi', 'Budi', 'Cindy']\n",
    "for name in names:\n",
    "    print(name, end=\" \")"
   ]
  },
  {
   "cell_type": "code",
   "execution_count": 15,
   "id": "0c24d305",
   "metadata": {},
   "outputs": [
    {
     "name": "stdout",
     "output_type": "stream",
     "text": [
      "[0, 1, 2, 3, 4, 5, 6, 7, 8, 9]\n"
     ]
    }
   ],
   "source": [
    "numbers = list(range(0, 10))\n",
    "print(numbers)"
   ]
  },
  {
   "cell_type": "code",
   "execution_count": 16,
   "id": "d20113e2",
   "metadata": {},
   "outputs": [
    {
     "name": "stdout",
     "output_type": "stream",
     "text": [
      "0 1 2 3 4 5 6 7 8 9 "
     ]
    }
   ],
   "source": [
    "for _ in range(0, 10):\n",
    "    print(_, end=\" \")"
   ]
  },
  {
   "cell_type": "code",
   "execution_count": 1,
   "id": "cac2d6b3",
   "metadata": {},
   "outputs": [
    {
     "name": "stdout",
     "output_type": "stream",
     "text": [
      "fabian\n"
     ]
    }
   ],
   "source": [
    "students = {\"22.1313\" : \"fabian\", \"22.4444\" : 'daffa'}\n",
    "print(students['22.1313'])"
   ]
  },
  {
   "cell_type": "code",
   "execution_count": 2,
   "id": "46587391",
   "metadata": {},
   "outputs": [
    {
     "name": "stdout",
     "output_type": "stream",
     "text": [
      "{'22.1313': 'fabian', '22.4444': 'daffa'}\n"
     ]
    }
   ],
   "source": [
    "print(students)"
   ]
  },
  {
   "cell_type": "code",
   "execution_count": 3,
   "id": "4db1a938",
   "metadata": {},
   "outputs": [
    {
     "name": "stdout",
     "output_type": "stream",
     "text": [
      "22.1313 fabian\n",
      "22.4444 daffa\n"
     ]
    }
   ],
   "source": [
    "for key, val in students.items():\n",
    "    print(key, val)"
   ]
  },
  {
   "cell_type": "code",
   "execution_count": 9,
   "id": "a1ac3b52",
   "metadata": {},
   "outputs": [
    {
     "name": "stdout",
     "output_type": "stream",
     "text": [
      "0811\n",
      "\t Josh\n",
      "\t Male\n",
      "\t 2023\n",
      "\n",
      "0812\n",
      "\t Ave\n",
      "\t Female\n",
      "\t 2022\n",
      "\n"
     ]
    }
   ],
   "source": [
    "#dict in dict\n",
    "persons = {\n",
    "     \"0811\": {\n",
    "         \"name\" : 'Josh',\n",
    "         'sex' : 'Male',\n",
    "         'year' : 2023\n",
    "     },\n",
    "    \"0812\": {\n",
    "        'name' : \"Ave\",\n",
    "        'sex' : 'Female',\n",
    "        'year' : 2022\n",
    "    }\n",
    " }\n",
    "\n",
    "for phone, info in persons.items():\n",
    "    print(phone)\n",
    "    print('\\t', info['name'])\n",
    "    print('\\t', info['sex'])\n",
    "    print('\\t', info['year'], end='\\n\\n')"
   ]
  },
  {
   "cell_type": "code",
   "execution_count": 2,
   "id": "88aa99f5",
   "metadata": {},
   "outputs": [
    {
     "name": "stdout",
     "output_type": "stream",
     "text": [
      "0 andi 0811\n",
      "1 budi 0812\n",
      "2 cindy 0813\n",
      "3 dodi 0814\n"
     ]
    }
   ],
   "source": [
    "persons = [\n",
    "    {'name':'andi','phone':'0811'},\n",
    "    {'name':'budi','phone':'0812'},\n",
    "    {'name':'cindy','phone':'0813'},\n",
    "    {'name':'dodi','phone':'0814'}\n",
    "]\n",
    "\n",
    "for index, person in enumerate(persons):\n",
    "    print(index, person['name'], person['phone'])"
   ]
  },
  {
   "cell_type": "markdown",
   "id": "dd7bd7b2",
   "metadata": {},
   "source": [
    "## copying lists"
   ]
  },
  {
   "cell_type": "code",
   "execution_count": 1,
   "id": "045ea51f",
   "metadata": {},
   "outputs": [
    {
     "name": "stdout",
     "output_type": "stream",
     "text": [
      "banks:  ['bri', 'btn', 'bca', 'kredivo']\n",
      "copy_banks:  ['bri', 'btn', 'bca', 'kredivo']\n",
      "copy_real_banks:  ['bri', 'btn', 'bca']\n"
     ]
    }
   ],
   "source": [
    "banks = ['bri', 'btn', 'bca']\n",
    "copy_banks = banks\n",
    "copy_real_banks = banks[:]\n",
    "banks.append('kredivo')\n",
    "print('banks: ', banks)\n",
    "print('copy_banks: ', copy_banks)\n",
    "print('copy_real_banks: ', copy_real_banks)"
   ]
  },
  {
   "cell_type": "markdown",
   "id": "a62589fc",
   "metadata": {},
   "source": [
    "## strings"
   ]
  },
  {
   "cell_type": "code",
   "execution_count": 5,
   "id": "059780c1",
   "metadata": {},
   "outputs": [
    {
     "name": "stdout",
     "output_type": "stream",
     "text": [
      "i\n",
      "Budi\n"
     ]
    }
   ],
   "source": [
    "full_name = 'Budi Santoso'\n",
    "print(full_name[3])\n",
    "first_name = full_name[0:4] #slicing string\n",
    "print(first_name)"
   ]
  },
  {
   "cell_type": "markdown",
   "id": "2d38da5f",
   "metadata": {},
   "source": [
    "# Libraries"
   ]
  },
  {
   "cell_type": "code",
   "execution_count": 16,
   "id": "aa1173e9",
   "metadata": {},
   "outputs": [
    {
     "name": "stdout",
     "output_type": "stream",
     "text": [
      "2023-07-20 13:43:48.460804\n",
      "Year:  2023\n",
      "Month:  7\n",
      "Day: 20\n",
      "Hour: 13\n",
      "Minute:  43\n",
      "Second:  48\n",
      "Milisecond:  460804\n"
     ]
    }
   ],
   "source": [
    "#import datetime\n",
    "#from datetime import datetime\n",
    "from datetime import datetime as dt\n",
    "\n",
    "#print(datetime.datetime.now())\n",
    "#print(datetime.now())\n",
    "today = dt.now()\n",
    "print(today)\n",
    "print('Year: ', today.year)\n",
    "print('Month: ', today.month)\n",
    "print('Day:',today.day)\n",
    "print('Hour:', today.hour)\n",
    "print('Minute: ', today.minute)\n",
    "print('Second: ', today.second)\n",
    "print('Milisecond: ', today.microsecond)"
   ]
  }
 ],
 "metadata": {
  "kernelspec": {
   "display_name": "Python 3 (ipykernel)",
   "language": "python",
   "name": "python3"
  },
  "language_info": {
   "codemirror_mode": {
    "name": "ipython",
    "version": 3
   },
   "file_extension": ".py",
   "mimetype": "text/x-python",
   "name": "python",
   "nbconvert_exporter": "python",
   "pygments_lexer": "ipython3",
   "version": "3.10.11"
  }
 },
 "nbformat": 4,
 "nbformat_minor": 5
}
